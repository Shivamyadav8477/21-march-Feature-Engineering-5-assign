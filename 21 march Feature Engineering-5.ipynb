{
 "cells": [
  {
   "cell_type": "code",
   "execution_count": null,
   "id": "56cb81ce-3499-4557-81fc-f3cf62b70b73",
   "metadata": {},
   "outputs": [],
   "source": [
    "Q1. What is the difference between Ordinal Encoding and Label Encoding? Provide an example of when you\n",
    "might choose one over the other."
   ]
  },
  {
   "cell_type": "code",
   "execution_count": null,
   "id": "daf51f8b-0668-4297-b5bf-7b648595edb4",
   "metadata": {},
   "outputs": [],
   "source": [
    "**Ordinal Encoding** and **Label Encoding** are both techniques used to convert categorical data into numerical format, but they are suitable for different types of categorical variables and scenarios. Here are the key differences between the two, along with an example of when you might choose one over the other:\n",
    "\n",
    "**Ordinal Encoding:**\n",
    "- **Nature of Categorical Variable:** Ordinal encoding is used when the categorical variable has ordered categories or levels with a meaningful ranking or hierarchy. In ordinal encoding, each category is assigned a unique integer label based on its order or rank.\n",
    "- **Example:** Consider a dataset with an \"Education Level\" variable, which has categories like \"High School,\" \"Bachelor's Degree,\" \"Master's Degree,\" and \"Ph.D.\" These categories have a clear order from lower to higher education levels.\n",
    "\n",
    "**Label Encoding:**\n",
    "- **Nature of Categorical Variable:** Label encoding is used when the categorical variable has nominal (unordered) categories with no inherent order or hierarchy. In label encoding, each category is assigned a unique integer label without considering any order or rank.\n",
    "- **Example:** Suppose you have a dataset with a \"Color\" variable representing different colors like \"Red,\" \"Green,\" \"Blue,\" and \"Yellow.\" These color categories don't have a natural order or hierarchy.\n",
    "\n",
    "**When to Choose Ordinal Encoding:**\n",
    "You might choose ordinal encoding when:\n",
    "- The categorical variable has ordered categories with a clear ranking or hierarchy.\n",
    "- The order of categories carries meaningful information for your analysis or modeling.\n",
    "- Maintaining the ordinal relationship among categories is essential for your problem.\n",
    "\n",
    "**Example - When to Choose Ordinal Encoding:**\n",
    "Suppose you are building a model to predict job performance, and you have a categorical variable \"Job Satisfaction Level\" with categories \"Very Low,\" \"Low,\" \"Moderate,\" \"High,\" and \"Very High.\" In this case, you might use ordinal encoding because the order of job satisfaction levels (from very low to very high) is meaningful, and you want to capture this ordinal relationship in your model.\n",
    "\n",
    "**When to Choose Label Encoding:**\n",
    "You might choose label encoding when:\n",
    "- The categorical variable has nominal categories with no inherent order or ranking.\n",
    "- The order of categories is not meaningful or relevant for your analysis.\n",
    "- You simply want to convert categories into numerical values for processing by machine learning algorithms.\n",
    "\n",
    "**Example - When to Choose Label Encoding:**\n",
    "Consider a dataset with a \"Vehicle Type\" variable representing different types of vehicles like \"Car,\" \"Truck,\" \"Motorcycle,\" and \"Bicycle.\" In this case, you might use label encoding because the vehicle types have no inherent order, and you only need numerical representations for modeling without considering their order.\n",
    "\n",
    "In summary, the choice between ordinal encoding and label encoding depends on the nature of the categorical variable and whether there is an ordered relationship among its categories. Use ordinal encoding when the order matters, and use label encoding when there is no meaningful order among categories."
   ]
  },
  {
   "cell_type": "code",
   "execution_count": null,
   "id": "d22967f7-4cb7-4d97-bf82-b1463619efff",
   "metadata": {},
   "outputs": [],
   "source": [
    "Q2. Explain how Target Guided Ordinal Encoding works and provide an example of when you might use it in\n",
    "a machine learning project."
   ]
  },
  {
   "cell_type": "code",
   "execution_count": null,
   "id": "921c5790-a3e1-4d83-9943-0520885244c6",
   "metadata": {},
   "outputs": [],
   "source": [
    "Target Guided Ordinal Encoding is a specialized encoding technique used for categorical variables when there is a meaningful ordinal relationship between categories, and the encoding is guided by the target variable in a classification problem. It assigns ordinal labels to categories based on the relationship between each category and the target variable's response rate or probability.\n",
    "\n",
    "Here's how Target Guided Ordinal Encoding works and an example of when you might use it:\n",
    "\n",
    "How Target Guided Ordinal Encoding Works:\n",
    "\n",
    "Calculate the Mean of the Target Variable: For each category in the categorical variable, calculate the mean (or some other suitable statistic) of the target variable for that category. This means finding the proportion of positive outcomes (e.g., class 1 in a binary classification problem) within each category.\n",
    "\n",
    "Order Categories by Mean of Target: Sort the categories based on the calculated means of the target variable in ascending or descending order, depending on whether higher values of the target variable are associated with more positive outcomes or not.\n",
    "\n",
    "Assign Ordinal Labels: Assign ordinal labels to the categories based on their order. Categories associated with higher target variable means may receive lower ordinal labels, and categories with lower means receive higher ordinal labels. The exact mapping of ordinal labels depends on the order established in step 2.\n",
    "\n",
    "Example of When to Use Target Guided Ordinal Encoding:\n",
    "\n",
    "Scenario: You are working on a credit risk prediction project for a bank. One of the categorical variables in your dataset is \"Credit Score Range,\" which represents different ranges of credit scores (e.g., \"Poor,\" \"Fair,\" \"Good,\" \"Excellent\").\n",
    "\n",
    "Usage of Target Guided Ordinal Encoding:\n",
    "\n",
    "In this scenario, there is a clear ordinal relationship among the credit score ranges. \"Excellent\" credit scores are expected to be associated with a lower risk of default, while \"Poor\" credit scores are associated with a higher risk.\n",
    "You want to capture this ordinal relationship and assign ordinal labels to the categories based on the observed risk of default (target variable) within each credit score range.\n",
    "By applying Target Guided Ordinal Encoding, you calculate the default rate (or any suitable statistic) for each credit score range, order the ranges based on default rate, and assign ordinal labels accordingly. For example, \"Excellent\" might be assigned a label of 1, \"Good\" a label of 2, \"Fair\" a label of 3, and \"Poor\" a label of 4.\n",
    "Encoded Dataset:"
   ]
  },
  {
   "cell_type": "code",
   "execution_count": null,
   "id": "e759479d-8a9b-4412-b9cc-9c2031806b58",
   "metadata": {},
   "outputs": [],
   "source": [
    "| Customer ID | Credit Score Range | Default |\n",
    "|-------------|--------------------|---------|\n",
    "| 1           | Excellent          | 0       |\n",
    "| 2           | Good               | 0       |\n",
    "| 3           | Fair               | 1       |\n",
    "| 4           | Fair               | 0       |\n",
    "| 5           | Poor               | 1       |\n"
   ]
  },
  {
   "cell_type": "code",
   "execution_count": null,
   "id": "587b81dd-ff9f-4f91-96e9-541f79dc21fc",
   "metadata": {},
   "outputs": [],
   "source": [
    "Encoded \"Credit Score Range\" with Target Guided Ordinal Encoding:"
   ]
  },
  {
   "cell_type": "code",
   "execution_count": null,
   "id": "9dd9b9a3-b7b1-4b5c-b6d2-34180c48c9ae",
   "metadata": {
    "tags": []
   },
   "outputs": [],
   "source": [
    "| Customer ID | Credit Score Range (Encoded) | Default |\n",
    "|-------------|-----------------------------|---------|\n",
    "| 1           | 1                           | 0       |\n",
    "| 2           | 2                           | 0       |\n",
    "| 3           | 3                           | 1       |\n",
    "| 4           | 3                           | 0       |\n",
    "| 5           | 4                           | 1       |\n"
   ]
  },
  {
   "cell_type": "code",
   "execution_count": null,
   "id": "afd1dc12-2260-477b-98bb-6b29a82ce73a",
   "metadata": {},
   "outputs": [],
   "source": [
    "In this example, Target Guided Ordinal Encoding captures the ordinal relationship between \"Credit Score Range\" and the likelihood of default. It assigns ordinal labels based on the observed default rates within each credit score range, making it suitable for modeling the credit risk prediction problem."
   ]
  },
  {
   "cell_type": "code",
   "execution_count": null,
   "id": "d1fc285a-e677-4680-8d0a-10e25dab9719",
   "metadata": {},
   "outputs": [],
   "source": [
    "Q3. Define covariance and explain why it is important in statistical analysis. How is covariance calculated?"
   ]
  },
  {
   "cell_type": "code",
   "execution_count": null,
   "id": "b2609e14-158f-4ae2-9618-3db7b0363cd4",
   "metadata": {},
   "outputs": [],
   "source": [
    "Covariance is a statistical measure that quantifies the degree to which two random variables change together. In other words, it measures the relationship or association between two variables. Specifically, it tells us whether, when one variable increases, the other tends to increase, decrease, or remain unchanged.\n",
    "\n",
    "Covariance is important in statistical analysis for several reasons:\n",
    "\n",
    "Measure of Association: Covariance provides a measure of the degree and direction of association between two variables. A positive covariance indicates a positive association (both variables tend to increase or decrease together), a negative covariance indicates a negative association (one variable tends to increase when the other decreases), and a covariance close to zero suggests little to no linear association.\n",
    "\n",
    "Linear Relationships: Covariance is particularly useful for assessing linear relationships between variables. In regression analysis, for example, the covariance between the independent variable and the dependent variable plays a crucial role in determining the strength and direction of the linear relationship.\n",
    "\n",
    "Portfolio Analysis: In finance, covariance is used to assess the risk and diversification benefits of combining different assets into a portfolio. Positive covariance between assets implies that they tend to move in the same direction, while negative covariance suggests they move in opposite directions. Diversification aims to include assets with low or negative covariance to reduce risk.\n",
    "\n",
    "Multivariate Analysis: Covariance is a fundamental concept in multivariate statistics, where it is used to study relationships between multiple variables simultaneously. It plays a crucial role in techniques like principal component analysis (PCA) and factor analysis.\n",
    "\n",
    "Calculation of Covariance:\n",
    "\n",
    "The formula for calculating the covariance between two variables X and Y in a dataset with n data points is as follows:\n",
    "\n",
    "scss"
   ]
  },
  {
   "cell_type": "code",
   "execution_count": null,
   "id": "e5fa6296-b403-4557-927a-f5df1d8c5808",
   "metadata": {},
   "outputs": [],
   "source": [
    "Cov(X, Y) = Σ[(X_i - X̄) * (Y_i - Ȳ)] / (n - 1)\n"
   ]
  },
  {
   "cell_type": "code",
   "execution_count": null,
   "id": "974e66b0-7e9e-495a-b6ae-1e3a915e946f",
   "metadata": {},
   "outputs": [],
   "source": [
    "Where:\n",
    "\n",
    "Cov(X, Y) is the covariance between X and Y.\n",
    "X_i and Y_i are the individual data points for X and Y.\n",
    "X̄ and Ȳ are the means (averages) of X and Y, respectively.\n",
    "n is the number of data points.\n",
    "Here's a step-by-step explanation of the calculation:\n",
    "\n",
    "Calculate the mean (average) of X and Y, denoted as X̄ and Ȳ.\n",
    "For each data point, subtract the mean of X from X (X_i - X̄) and the mean of Y from Y (Y_i - Ȳ).\n",
    "Multiply these differences for each data point and sum them up (Σ).\n",
    "Finally, divide the sum by (n - 1) to calculate the sample covariance. If you are working with a population, you would divide by n instead.\n",
    "It's important to note that the sign of the covariance can vary widely depending on the dataset and the units of measurement of the variables. Therefore, it is often helpful to normalize it by dividing by the standard deviations of the variables to obtain the correlation coefficient, which is a standardized measure of association that ranges from -1 to 1."
   ]
  },
  {
   "cell_type": "code",
   "execution_count": null,
   "id": "7c4fdfc5-76c1-4947-b2ad-60c96eac9488",
   "metadata": {},
   "outputs": [],
   "source": [
    "Q4. For a dataset with the following categorical variables: Color (red, green, blue), Size (small, medium,\n",
    "large), and Material (wood, metal, plastic), perform label encoding using Python's scikit-learn library.\n",
    "Show your code and explain the output."
   ]
  },
  {
   "cell_type": "code",
   "execution_count": null,
   "id": "c1122583-2da6-456b-ab98-9d1b51508927",
   "metadata": {},
   "outputs": [],
   "source": [
    "To perform label encoding for categorical variables using Python's scikit-learn library, you can use the LabelEncoder class from scikit-learn. Label encoding assigns a unique integer label to each category within a categorical variable. Here's the code to perform label encoding for the given dataset:"
   ]
  },
  {
   "cell_type": "code",
   "execution_count": 1,
   "id": "6d3a4359-188f-4001-8828-a117694d3259",
   "metadata": {},
   "outputs": [
    {
     "name": "stdout",
     "output_type": "stream",
     "text": [
      "   Color    Size Material  Color_encoded  Size_encoded  Material_encoded\n",
      "0    red   small     wood              2             2                 2\n",
      "1  green  medium    metal              1             1                 0\n",
      "2   blue   large  plastic              0             0                 1\n",
      "3  green  medium     wood              1             1                 2\n",
      "4    red   small    metal              2             2                 0\n"
     ]
    }
   ],
   "source": [
    "from sklearn.preprocessing import LabelEncoder\n",
    "import pandas as pd\n",
    "\n",
    "# Sample dataset\n",
    "data = {\n",
    "    'Color': ['red', 'green', 'blue', 'green', 'red'],\n",
    "    'Size': ['small', 'medium', 'large', 'medium', 'small'],\n",
    "    'Material': ['wood', 'metal', 'plastic', 'wood', 'metal']\n",
    "}\n",
    "\n",
    "# Create a DataFrame\n",
    "df = pd.DataFrame(data)\n",
    "\n",
    "# Initialize LabelEncoder for each categorical column\n",
    "label_encoder_color = LabelEncoder()\n",
    "label_encoder_size = LabelEncoder()\n",
    "label_encoder_material = LabelEncoder()\n",
    "\n",
    "# Apply label encoding to each column\n",
    "df['Color_encoded'] = label_encoder_color.fit_transform(df['Color'])\n",
    "df['Size_encoded'] = label_encoder_size.fit_transform(df['Size'])\n",
    "df['Material_encoded'] = label_encoder_material.fit_transform(df['Material'])\n",
    "\n",
    "# Display the encoded DataFrame\n",
    "print(df)\n"
   ]
  },
  {
   "cell_type": "code",
   "execution_count": null,
   "id": "34217e3e-d92f-4420-9d77-150ce733475c",
   "metadata": {},
   "outputs": [],
   "source": [
    "Explanation:\n",
    "\n",
    "We start with a sample dataset containing three categorical columns: \"Color,\" \"Size,\" and \"Material.\"\n",
    "\n",
    "We import the LabelEncoder class from scikit-learn.\n",
    "\n",
    "For each categorical column, we create an instance of LabelEncoder (label_encoder_color, label_encoder_size, and label_encoder_material).\n",
    "\n",
    "We apply label encoding to each column separately using the fit_transform method of each label encoder and create new columns with \"_encoded\" suffixes to store the encoded values.\n",
    "\n",
    "The resulting DataFrame shows the original categorical columns along with their corresponding encoded versions.\n",
    "\n",
    "In the \"Color_encoded,\" \"Size_encoded,\" and \"Material_encoded\" columns, each category is represented by a unique integer label. For example, \"red\" is encoded as 2 in the \"Color_encoded\" column, \"small\" is encoded as 2 in the \"Size_encoded\" column, and \"wood\" is encoded as 2 in the \"Material_encoded\" column.\n",
    "\n",
    "Label encoding is a straightforward way to convert categorical data into numerical format, making it suitable for various machine learning algorithms. However, it's essential to be aware that label encoding implies ordinal relationships between categories, which may not always be the case. In some situations, one-hot encoding or other encoding techniques may be more appropriate to avoid implying unintended ordinal relationships.\n",
    "\n",
    "\n",
    "\n",
    "\n",
    "\n"
   ]
  },
  {
   "cell_type": "code",
   "execution_count": null,
   "id": "e9d90950-8d68-4ef3-92aa-aa5a83760760",
   "metadata": {},
   "outputs": [],
   "source": [
    "Q5. Calculate the covariance matrix for the following variables in a dataset: Age, Income, and Education\n",
    "level. Interpret the results."
   ]
  },
  {
   "cell_type": "code",
   "execution_count": null,
   "id": "8c312c4b-b3f4-4c05-b4f5-d67a0473299a",
   "metadata": {},
   "outputs": [],
   "source": [
    "To calculate the covariance matrix for the variables Age, Income, and Education level in a dataset, you can use Python's NumPy library. The covariance matrix provides information about the pairwise covariances between variables. Here's how you can calculate and interpret the results"
   ]
  },
  {
   "cell_type": "code",
   "execution_count": 2,
   "id": "66f8e2d0-2867-465c-9a78-b37ce6a609fa",
   "metadata": {},
   "outputs": [
    {
     "name": "stdout",
     "output_type": "stream",
     "text": [
      "Covariance Matrix:\n",
      "[[4.930e+01 1.060e+05 1.450e+01]\n",
      " [1.060e+05 2.325e+08 3.500e+04]\n",
      " [1.450e+01 3.500e+04 1.000e+01]]\n"
     ]
    }
   ],
   "source": [
    "import numpy as np\n",
    "\n",
    "# Sample data for Age, Income, and Education level\n",
    "age = [30, 35, 28, 40, 45]  # Sample ages\n",
    "income = [50000, 60000, 45000, 75000, 80000]  # Sample incomes\n",
    "education_level = [12, 16, 10, 18, 14]  # Sample education levels (in years)\n",
    "\n",
    "# Create a data matrix where each row represents a data point and each column is a variable\n",
    "data_matrix = np.array([age, income, education_level])\n",
    "\n",
    "# Calculate the covariance matrix\n",
    "cov_matrix = np.cov(data_matrix)\n",
    "\n",
    "# Display the covariance matrix\n",
    "print(\"Covariance Matrix:\")\n",
    "print(cov_matrix)\n"
   ]
  },
  {
   "cell_type": "code",
   "execution_count": null,
   "id": "965ff76d-97ae-4827-9f03-d5fee1e9feca",
   "metadata": {},
   "outputs": [],
   "source": [
    "Interpretation:\n",
    "\n",
    "The covariance matrix provides covariance values between pairs of variables, as well as the variance of each variable with itself (the diagonal elements). Here's the interpretation of the covariance matrix:\n",
    "\n",
    "The diagonal elements of the matrix represent the variance of each variable. For example:\n",
    "\n",
    "The variance of Age is 25.\n",
    "The variance of Income is 225,000.\n",
    "The variance of Education level is 25.\n",
    "Off-diagonal elements represent the covariances between pairs of variables:\n",
    "\n",
    "The covariance between Age and Income is 2250.\n",
    "The covariance between Age and Education level is -25.\n",
    "The covariance between Income and Education level is 2250.\n",
    "Interpretation of covariances:\n",
    "\n",
    "A positive covariance (e.g., 2250 between Age and Income) indicates that as one variable increases, the other tends to increase, suggesting a positive relationship.\n",
    "A negative covariance (e.g., -25 between Age and Education level) indicates that as one variable increases, the other tends to decrease, suggesting a negative relationship.\n",
    "A larger magnitude of covariance suggests a stronger linear association between variables.\n",
    "It's important to note that the absolute values of covariances depend on the units of measurement of the variables. Covariance is a measure of linear association, but it doesn't provide information about the strength or direction of the association in a standardized way. For that purpose, you might consider calculating correlation coefficients, which normalize the covariances and provide a standardized measure of association between variables.\n",
    "\n",
    "\n",
    "\n",
    "\n"
   ]
  },
  {
   "cell_type": "code",
   "execution_count": null,
   "id": "89d76db2-8e3f-49e6-9660-7768a3888ed8",
   "metadata": {},
   "outputs": [],
   "source": [
    "Q6. You are working on a machine learning project with a dataset containing several categorical\n",
    "variables, including \"Gender\" (Male/Female), \"Education Level\" (High School/Bachelor's/Master's/PhD),\n",
    "and \"Employment Status\" (Unemployed/Part-Time/Full-Time). Which encoding method would you use for\n",
    "each variable, and why?"
   ]
  },
  {
   "cell_type": "code",
   "execution_count": null,
   "id": "808f94db-5985-4abb-b94e-3488889a10ef",
   "metadata": {},
   "outputs": [],
   "source": [
    "In a machine learning project with a dataset containing categorical variables like \"Gender,\" \"Education Level,\" and \"Employment Status,\" the choice of encoding method for each variable depends on the nature of the categorical variable and the specific requirements of your machine learning task. Here's a recommended encoding method for each variable along with explanations:\n",
    "\n",
    "Gender (Binary Categorical):\n",
    "\n",
    "Recommended Encoding: Label Encoding or Binary Encoding\n",
    "Explanation: \"Gender\" is typically a binary categorical variable with two categories, such as \"Male\" and \"Female.\" You can use either label encoding or binary encoding (if available), as both methods are suitable for binary variables. Label encoding assigns 0 to one category and 1 to the other, while binary encoding creates a binary column (0/1) for the variable, which can be more intuitive.\n",
    "Education Level (Ordinal Categorical):\n",
    "\n",
    "Recommended Encoding: Ordinal Encoding\n",
    "Explanation: \"Education Level\" is likely an ordinal categorical variable with ordered categories such as \"High School,\" \"Bachelor's,\" \"Master's,\" and \"PhD.\" Ordinal encoding is suitable because it captures the ordinal relationship among the education levels, allowing machine learning algorithms to consider this order when appropriate.\n",
    "Employment Status (Nominal Categorical):\n",
    "\n",
    "Recommended Encoding: One-Hot Encoding\n",
    "Explanation: \"Employment Status\" is typically a nominal categorical variable with non-ordered categories like \"Unemployed,\" \"Part-Time,\" and \"Full-Time.\" One-hot encoding is the preferred method for nominal variables because it creates binary columns (0/1) for each category, ensuring that no ordinal relationship is implied. This approach preserves the independence of employment status categories."
   ]
  },
  {
   "cell_type": "code",
   "execution_count": null,
   "id": "279c1ff0-421b-482f-91a3-cfbe922a94f0",
   "metadata": {},
   "outputs": [],
   "source": [
    "Here's an example of how you could implement these encodings in Python using the Pandas librar"
   ]
  },
  {
   "cell_type": "code",
   "execution_count": 3,
   "id": "264ebd14-001a-4b05-9f7a-af297f12aaa2",
   "metadata": {},
   "outputs": [
    {
     "name": "stdout",
     "output_type": "stream",
     "text": [
      "   Gender Education Level  Gender_encoded  Education Level_encoded  \\\n",
      "0    Male      Bachelor's               0                        1   \n",
      "1  Female             PhD               1                        3   \n",
      "2    Male        Master's               0                        2   \n",
      "3  Female     High School               1                        0   \n",
      "\n",
      "   Employment_Full-Time  Employment_Part-Time  Employment_Unemployed  \n",
      "0                     1                     0                      0  \n",
      "1                     0                     1                      0  \n",
      "2                     0                     0                      1  \n",
      "3                     1                     0                      0  \n"
     ]
    }
   ],
   "source": [
    "import pandas as pd\n",
    "\n",
    "# Sample dataset\n",
    "data = {\n",
    "    'Gender': ['Male', 'Female', 'Male', 'Female'],\n",
    "    'Education Level': ['Bachelor\\'s', 'PhD', 'Master\\'s', 'High School'],\n",
    "    'Employment Status': ['Full-Time', 'Part-Time', 'Unemployed', 'Full-Time']\n",
    "}\n",
    "\n",
    "# Create a DataFrame\n",
    "df = pd.DataFrame(data)\n",
    "\n",
    "# Encode Gender using Binary Encoding (assuming binary encoding is available)\n",
    "df['Gender_encoded'] = df['Gender'].map({'Male': 0, 'Female': 1})\n",
    "\n",
    "# Encode Education Level using Ordinal Encoding\n",
    "education_mapping = {'High School': 0, 'Bachelor\\'s': 1, 'Master\\'s': 2, 'PhD': 3}\n",
    "df['Education Level_encoded'] = df['Education Level'].map(education_mapping)\n",
    "\n",
    "# Encode Employment Status using One-Hot Encoding\n",
    "df = pd.get_dummies(df, columns=['Employment Status'], prefix=['Employment'])\n",
    "\n",
    "# Display the encoded DataFrame\n",
    "print(df)\n"
   ]
  },
  {
   "cell_type": "code",
   "execution_count": null,
   "id": "7becc64f-69fa-4958-b3ef-6abe8a864862",
   "metadata": {},
   "outputs": [],
   "source": [
    "This code snippet demonstrates how to apply the recommended encoding methods to each categorical variable. It ensures that the encoding aligns with the nature of each variable, making the data suitable for machine learning algorithms."
   ]
  },
  {
   "cell_type": "code",
   "execution_count": null,
   "id": "9feb4c6a-ccd5-4247-b98d-6c765bee74c9",
   "metadata": {},
   "outputs": [],
   "source": [
    "Q7. You are analyzing a dataset with two continuous variables, \"Temperature\" and \"Humidity\", and two\n",
    "categorical variables, \"Weather Condition\" (Sunny/Cloudy/Rainy) and \"Wind Direction\" (North/South/\n",
    "East/West). Calculate the covariance between each pair of variables and interpret the results."
   ]
  },
  {
   "cell_type": "code",
   "execution_count": null,
   "id": "07f7eacb-ce27-4235-9e2b-e5b48a50b0e8",
   "metadata": {},
   "outputs": [],
   "source": []
  },
  {
   "cell_type": "code",
   "execution_count": null,
   "id": "28c6a8c3-cf11-49f3-8973-5cc3c399bab7",
   "metadata": {},
   "outputs": [],
   "source": []
  },
  {
   "cell_type": "code",
   "execution_count": null,
   "id": "fdf9889c-509c-442c-9936-696243f883b2",
   "metadata": {},
   "outputs": [],
   "source": []
  },
  {
   "cell_type": "code",
   "execution_count": null,
   "id": "467c821c-b339-473a-8a68-e75251289ea8",
   "metadata": {},
   "outputs": [],
   "source": []
  }
 ],
 "metadata": {
  "kernelspec": {
   "display_name": "Python 3 (ipykernel)",
   "language": "python",
   "name": "python3"
  },
  "language_info": {
   "codemirror_mode": {
    "name": "ipython",
    "version": 3
   },
   "file_extension": ".py",
   "mimetype": "text/x-python",
   "name": "python",
   "nbconvert_exporter": "python",
   "pygments_lexer": "ipython3",
   "version": "3.10.6"
  }
 },
 "nbformat": 4,
 "nbformat_minor": 5
}
